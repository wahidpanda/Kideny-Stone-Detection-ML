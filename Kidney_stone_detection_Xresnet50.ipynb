{
 "cells": [
  {
   "cell_type": "code",
   "execution_count": null,
   "metadata": {
    "id": "WynkaeYy8O27"
   },
   "outputs": [],
   "source": [
    "!pip install -Uqq fastbook\n",
    "import fastbook\n",
    "fastbook.setup_book()"
   ]
  },
  {
   "cell_type": "code",
   "execution_count": 2,
   "metadata": {
    "id": "ElbqVU56yBSw"
   },
   "outputs": [],
   "source": [
    "from fastbook import *"
   ]
  },
  {
   "cell_type": "code",
   "execution_count": null,
   "metadata": {
    "id": "fN03CjAEyPIC"
   },
   "outputs": [],
   "source": [
    "from fastai.vision.all import *\n",
    "path = Path('C:\\Users\\DCL\\Documents\\Downloads\\kidney\\Dataset')"
   ]
  },
  {
   "cell_type": "code",
   "execution_count": null,
   "metadata": {
    "id": "zf4TChGmmlIv"
   },
   "outputs": [],
   "source": [
    "train_fnames = get_image_files('C:\\Users\\DCL\\Documents\\Downloads\\kidney\\Dataset/Train')"
   ]
  },
  {
   "cell_type": "code",
   "execution_count": null,
   "metadata": {
    "id": "fmjTCpatpxn5"
   },
   "outputs": [],
   "source": [
    "augs = [RandomResizedCropGPU(size=224, min_scale=0.75), Rotate(), Zoom()]\n",
    "dblock = DataBlock(blocks=(ImageBlock(cls=PILImage), CategoryBlock),\n",
    "                   splitter=RandomSplitter(valid_pct=0.2, seed=23),\n",
    "                   get_y=parent_label,\n",
    "                   item_tfms=Resize(512, method=\"squish\"),\n",
    "                   batch_tfms=augs,\n",
    "                   )\n",
    "\n",
    "dls = dblock.dataloaders(train_fnames)\n"
   ]
  },
  {
   "cell_type": "code",
   "execution_count": null,
   "metadata": {
    "colab": {
     "base_uri": "https://localhost:8080/"
    },
    "id": "mnvu8K23L-n9",
    "outputId": "d60ee972-5d5c-409f-f1ee-b4eb9cbb896b"
   },
   "outputs": [],
   "source": [
    "# print number of classes and length of train and valid datasets\n",
    "dls.c, len(dls.train_ds), len(dls.valid_ds)"
   ]
  },
  {
   "cell_type": "code",
   "execution_count": null,
   "metadata": {
    "colab": {
     "base_uri": "https://localhost:8080/"
    },
    "id": "NQc3pRSfj4B0",
    "outputId": "2e1b987a-d70d-47ab-b29d-efa6f6de5cb1"
   },
   "outputs": [],
   "source": [
    "dls.vocab"
   ]
  },
  {
   "cell_type": "code",
   "execution_count": null,
   "metadata": {
    "colab": {
     "base_uri": "https://localhost:8080/",
     "height": 536
    },
    "id": "OEVPxHQlyP0V",
    "outputId": "0ff2c20a-c42c-4549-827d-05a907e95617"
   },
   "outputs": [],
   "source": [
    "dls.show_batch()"
   ]
  },
  {
   "cell_type": "code",
   "execution_count": null,
   "metadata": {
    "id": "f9uBB_HHyYYY"
   },
   "outputs": [],
   "source": [
    "model = nn.Sequential(create_body(xresnet50, pretrained=False),create_head(nf=2048, n_out=2))\n",
    "learn = Learner(dls, model, loss_func=CrossEntropyLossFlat(), metrics=accuracy)\n",
    "\n"
   ]
  },
  {
   "cell_type": "code",
   "execution_count": null,
   "metadata": {
    "colab": {
     "base_uri": "https://localhost:8080/",
     "height": 1000
    },
    "id": "U5Y5NaCZybz3",
    "outputId": "b8ffb9fb-94de-475e-f63c-ea0762123d92"
   },
   "outputs": [],
   "source": [
    "learn.fit_one_cycle(40,1e-2)"
   ]
  },
  {
   "cell_type": "code",
   "execution_count": null,
   "metadata": {
    "id": "Usaaef0nyegF"
   },
   "outputs": [],
   "source": []
  },
  {
   "cell_type": "code",
   "execution_count": null,
   "metadata": {
    "colab": {
     "base_uri": "https://localhost:8080/"
    },
    "id": "O6nTa73S7dfN",
    "outputId": "69e6242e-01e3-4046-a0e2-79456af1a5c3"
   },
   "outputs": [],
   "source": [
    "learn.save(path/'kidney-50')"
   ]
  },
  {
   "cell_type": "code",
   "execution_count": null,
   "metadata": {
    "colab": {
     "base_uri": "https://localhost:8080/",
     "height": 265
    },
    "id": "04uOy8HFH-le",
    "outputId": "3ac62422-6806-446c-cd39-f8d055497d08"
   },
   "outputs": [],
   "source": [
    "learn.recorder.plot_loss(skip_start=0, with_valid=True)"
   ]
  },
  {
   "cell_type": "code",
   "execution_count": null,
   "metadata": {
    "id": "G3ksA2S-JtRW"
   },
   "outputs": [],
   "source": [
    "#test_items = get_image_files(path/\"Test\")\n",
    "all_files= get_image_files(path)"
   ]
  },
  {
   "cell_type": "code",
   "execution_count": null,
   "metadata": {
    "id": "Tm1lkaioguSZ"
   },
   "outputs": [],
   "source": []
  },
  {
   "cell_type": "code",
   "execution_count": null,
   "metadata": {
    "id": "QUwi0BkpIeui"
   },
   "outputs": [],
   "source": []
  },
  {
   "cell_type": "markdown",
   "metadata": {
    "id": "OUYLEUYpIfn8"
   },
   "source": [
    "# Evaluating model performance using the unseen test set"
   ]
  },
  {
   "cell_type": "code",
   "execution_count": null,
   "metadata": {
    "id": "tpUqBUnvKVow"
   },
   "outputs": [],
   "source": [
    "\n",
    "augs = [RandomResizedCropGPU(size=224, min_scale=0.75), Rotate(), Zoom()]\n",
    "dblock = DataBlock(blocks=(ImageBlock(cls=PILImage), CategoryBlock),\n",
    "                   splitter=GrandparentSplitter(train_name='Train', valid_name='Test'),\n",
    "                   get_y=parent_label,\n",
    "                   item_tfms=Resize(512, method=\"squish\"),\n",
    "                   batch_tfms=augs,\n",
    "                   )\n",
    "\n",
    "dls_test = dblock.dataloaders(all_files)\n",
    "\n"
   ]
  },
  {
   "cell_type": "code",
   "execution_count": null,
   "metadata": {
    "colab": {
     "base_uri": "https://localhost:8080/"
    },
    "id": "m9Hv504IhYLR",
    "outputId": "8136236e-4749-4f0d-bd79-e61ab8473893"
   },
   "outputs": [],
   "source": [
    "print(\"Number of examples in testing:\", len(dls_test.valid_ds))"
   ]
  },
  {
   "cell_type": "code",
   "execution_count": null,
   "metadata": {
    "id": "imtgFJU5sbdH"
   },
   "outputs": [],
   "source": [
    "model = nn.Sequential(create_body(xresnet50, pretrained=False),create_head(nf=2048, n_out=2))"
   ]
  },
  {
   "cell_type": "code",
   "execution_count": null,
   "metadata": {
    "id": "C4sB7JLB9lA0"
   },
   "outputs": [],
   "source": [
    "learn1 = learn1 = Learner(dls_test, model, loss_func=CrossEntropyLossFlat(), metrics=accuracy).load('/content/gdrive/My Drive/Deep/Stone/kidney-50')"
   ]
  },
  {
   "cell_type": "code",
   "execution_count": null,
   "metadata": {
    "colab": {
     "base_uri": "https://localhost:8080/",
     "height": 311
    },
    "id": "4j44aAUx63yX",
    "outputId": "f15b6694-2239-46a1-eb67-9708aacc4d95"
   },
   "outputs": [],
   "source": [
    "interp = ClassificationInterpretation.from_learner(learn1)\n",
    "interp.plot_confusion_matrix()\n"
   ]
  },
  {
   "cell_type": "code",
   "execution_count": null,
   "metadata": {
    "colab": {
     "base_uri": "https://localhost:8080/"
    },
    "id": "etQrlyYq00WW",
    "outputId": "47dd1216-1831-401e-ece8-9b23429b8e53"
   },
   "outputs": [],
   "source": [
    "interp.print_classification_report()"
   ]
  },
  {
   "cell_type": "code",
   "execution_count": null,
   "metadata": {
    "id": "N7ywP4kj90ZR"
   },
   "outputs": [],
   "source": []
  },
  {
   "cell_type": "code",
   "execution_count": null,
   "metadata": {},
   "outputs": [],
   "source": []
  },
  {
   "cell_type": "code",
   "execution_count": null,
   "metadata": {},
   "outputs": [],
   "source": []
  },
  {
   "cell_type": "code",
   "execution_count": null,
   "metadata": {},
   "outputs": [],
   "source": []
  }
 ],
 "metadata": {
  "accelerator": "GPU",
  "colab": {
   "collapsed_sections": [],
   "name": "Kidney_stone-detection- Xresnet50.ipynb",
   "provenance": []
  },
  "kernelspec": {
   "display_name": "Python 3 (ipykernel)",
   "language": "python",
   "name": "python3"
  },
  "language_info": {
   "codemirror_mode": {
    "name": "ipython",
    "version": 3
   },
   "file_extension": ".py",
   "mimetype": "text/x-python",
   "name": "python",
   "nbconvert_exporter": "python",
   "pygments_lexer": "ipython3",
   "version": "3.9.12"
  }
 },
 "nbformat": 4,
 "nbformat_minor": 1
}
